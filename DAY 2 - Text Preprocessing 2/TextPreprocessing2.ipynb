{
 "cells": [
  {
   "cell_type": "markdown",
   "metadata": {},
   "source": [
    "# TEXT PREPROCESSING 2\n",
    "\n",
    "The processed clean text is converted into 'VECTORS'"
   ]
  },
  {
   "cell_type": "code",
   "execution_count": 8,
   "metadata": {},
   "outputs": [
    {
     "name": "stdout",
     "output_type": "stream",
     "text": [
      "['nvidia corporation was founded in      and is a global leader in computing technology with headquarters in santa clara california  ', 'the company specializes in designing and manufacturing gpus that are essential for gaming artificial intelligence and scientific research  ', 'nvidia s gpu architectures such as ampere and ada lovelace deliver high performance and energy efficiency  ', 'nvidia created cuda which is a parallel computing platform enabling developers to use gpus for general purpose applications  ', 'its gpus are widely used in artificial intelligence and machine learning supporting industries like healthcare finance and automotive  ', 'the company provides software development kits such as tensorrt and cudnn to optimize ai and deep learning tasks  ', 'in gaming nvidia geforce graphics cards and technologies like dlss improve performance and image quality for immersive experiences  ', 'nvidia drive is a platform for autonomous vehicles providing hardware and software for self driving cars  ', 'the omniverse platform enables creators to collaborate on  d projects with real time rendering and simulation  ', 'nvidia leads in data center solutions with gpus like the h    and dgx systems accelerating workloads in ai cloud computing and large scale data processing  ', 'grace cpu represents nvidia s expansion into high performance cpu development  ', 'the jetson platform supports robotics and iot applications enabling efficient edge computing  ', 'the company s acquisition of mellanox technologies enhanced networking capabilities for data centers  ', 'nvidia plays a crucial role in generative ai with its hardware powering the training of large language models  ', 'sustainability is a key focus with efforts to design energy efficient products  ', 'nvidia collaborates with cloud providers including aws azure and google cloud to expand its ecosystem  ', 'it is a major player in the metaverse offering tools for virtual reality and augmented reality applications  ', 'ceo jensen huang co founded the company and is recognized for driving innovation  ', 'nvidia stock under the ticker nvda is a significant component of the nasdaq index and reflects industry leadership  ', 'the company emphasizes innovation collaboration and delivering transformative technologies to industries worldwide  ']\n"
     ]
    }
   ],
   "source": [
    "import json\n",
    "\n",
    "with open(\"processed_text.txt\", \"r\") as file:\n",
    "    corpus = json.load(file)\n",
    "\n",
    "print(corpus)\n"
   ]
  },
  {
   "cell_type": "markdown",
   "metadata": {},
   "source": [
    "## BAG OF WORDS"
   ]
  },
  {
   "cell_type": "code",
   "execution_count": 15,
   "metadata": {},
   "outputs": [],
   "source": [
    "from sklearn.feature_extraction.text import CountVectorizer\n",
    "cv = CountVectorizer(binary=True, ngram_range=(1,3))"
   ]
  },
  {
   "cell_type": "code",
   "execution_count": 16,
   "metadata": {},
   "outputs": [
    {
     "name": "stdout",
     "output_type": "stream",
     "text": [
      "{'nvidia': 474, 'corporation': 148, 'was': 712, 'founded': 270, 'in': 339, 'and': 19, 'is': 385, 'global': 289, 'leader': 428, 'computing': 141, 'technology': 639, 'with': 721, 'headquarters': 318, 'santa': 586, 'clara': 106, 'california': 91, 'nvidia corporation': 477, 'corporation was': 149, 'was founded': 713, 'founded in': 271, 'in and': 342, 'and is': 41, 'is global': 386, 'global leader': 290, 'leader in': 429, 'in computing': 346, 'computing technology': 146, 'technology with': 640, 'with headquarters': 728, 'headquarters in': 319, 'in santa': 356, 'santa clara': 587, 'clara california': 107, 'nvidia corporation was': 478, 'corporation was founded': 150, 'was founded in': 714, 'founded in and': 272, 'in and is': 343, 'and is global': 42, 'is global leader': 387, 'global leader in': 291, 'leader in computing': 430, 'in computing technology': 347, 'computing technology with': 147, 'technology with headquarters': 641, 'with headquarters in': 729, 'headquarters in santa': 320, 'in santa clara': 357, 'santa clara california': 588, 'the': 648, 'company': 127, 'specializes': 609, 'designing': 187, 'manufacturing': 455, 'gpus': 298, 'that': 645, 'are': 65, 'essential': 237, 'for': 253, 'gaming': 275, 'artificial': 70, 'intelligence': 375, 'scientific': 592, 'research': 579, 'the company': 651, 'company specializes': 136, 'specializes in': 610, 'in designing': 350, 'designing and': 188, 'and manufacturing': 48, 'manufacturing gpus': 456, 'gpus that': 305, 'that are': 646, 'are essential': 66, 'essential for': 238, 'for gaming': 260, 'gaming artificial': 276, 'artificial intelligence': 71, 'intelligence and': 376, 'and scientific': 52, 'scientific research': 593, 'the company specializes': 656, 'company specializes in': 137, 'specializes in designing': 611, 'in designing and': 351, 'designing and manufacturing': 189, 'and manufacturing gpus': 49, 'manufacturing gpus that': 457, 'gpus that are': 306, 'that are essential': 647, 'are essential for': 67, 'essential for gaming': 239, 'for gaming artificial': 261, 'gaming artificial intelligence': 277, 'artificial intelligence and': 72, 'intelligence and scientific': 378, 'and scientific research': 53, 'gpu': 295, 'architectures': 62, 'such': 615, 'as': 73, 'ampere': 16, 'ada': 6, 'lovelace': 446, 'deliver': 178, 'high': 324, 'performance': 517, 'energy': 230, 'efficiency': 211, 'nvidia gpu': 487, 'gpu architectures': 296, 'architectures such': 63, 'such as': 616, 'as ampere': 74, 'ampere and': 17, 'and ada': 20, 'ada lovelace': 7, 'lovelace deliver': 447, 'deliver high': 179, 'high performance': 325, 'performance and': 518, 'and energy': 33, 'energy efficiency': 231, 'nvidia gpu architectures': 488, 'gpu architectures such': 297, 'architectures such as': 64, 'such as ampere': 617, 'as ampere and': 75, 'ampere and ada': 18, 'and ada lovelace': 21, 'ada lovelace deliver': 8, 'lovelace deliver high': 448, 'deliver high performance': 180, 'high performance and': 326, 'performance and energy': 519, 'and energy efficiency': 34, 'created': 155, 'cuda': 164, 'which': 715, 'parallel': 514, 'platform': 523, 'enabling': 225, 'developers': 190, 'to': 675, 'use': 700, 'general': 283, 'purpose': 555, 'applications': 59, 'nvidia created': 479, 'created cuda': 156, 'cuda which': 165, 'which is': 716, 'is parallel': 392, 'parallel computing': 515, 'computing platform': 144, 'platform enabling': 526, 'enabling developers': 226, 'developers to': 191, 'to use': 686, 'use gpus': 701, 'gpus for': 301, 'for general': 262, 'general purpose': 284, 'purpose applications': 556, 'nvidia created cuda': 480, 'created cuda which': 157, 'cuda which is': 166, 'which is parallel': 717, 'is parallel computing': 393, 'parallel computing platform': 516, 'computing platform enabling': 145, 'platform enabling developers': 527, 'enabling developers to': 227, 'developers to use': 192, 'to use gpus': 687, 'use gpus for': 702, 'gpus for general': 302, 'for general purpose': 263, 'general purpose applications': 285, 'its': 403, 'widely': 718, 'used': 703, 'machine': 449, 'learning': 435, 'supporting': 619, 'industries': 366, 'like': 439, 'healthcare': 321, 'finance': 247, 'automotive': 81, 'its gpus': 405, 'gpus are': 299, 'are widely': 68, 'widely used': 719, 'used in': 704, 'in artificial': 344, 'and machine': 46, 'machine learning': 450, 'learning supporting': 436, 'supporting industries': 620, 'industries like': 367, 'like healthcare': 442, 'healthcare finance': 322, 'finance and': 248, 'and automotive': 24, 'its gpus are': 406, 'gpus are widely': 300, 'are widely used': 69, 'widely used in': 720, 'used in artificial': 705, 'in artificial intelligence': 345, 'intelligence and machine': 377, 'and machine learning': 47, 'machine learning supporting': 451, 'learning supporting industries': 437, 'supporting industries like': 621, 'industries like healthcare': 368, 'like healthcare finance': 443, 'healthcare finance and': 323, 'finance and automotive': 249, 'provides': 549, 'software': 601, 'development': 193, 'kits': 418, 'tensorrt': 642, 'cudnn': 167, 'optimize': 511, 'ai': 9, 'deep': 175, 'tasks': 631, 'company provides': 134, 'provides software': 550, 'software development': 602, 'development kits': 194, 'kits such': 419, 'as tensorrt': 76, 'tensorrt and': 643, 'and cudnn': 25, 'cudnn to': 168, 'to optimize': 684, 'optimize ai': 512, 'ai and': 10, 'and deep': 27, 'deep learning': 176, 'learning tasks': 438, 'the company provides': 655, 'company provides software': 135, 'provides software development': 551, 'software development kits': 603, 'development kits such': 195, 'kits such as': 420, 'such as tensorrt': 618, 'as tensorrt and': 77, 'tensorrt and cudnn': 644, 'and cudnn to': 26, 'cudnn to optimize': 169, 'to optimize ai': 685, 'optimize ai and': 513, 'ai and deep': 11, 'and deep learning': 28, 'deep learning tasks': 177, 'geforce': 280, 'graphics': 310, 'cards': 95, 'technologies': 632, 'dlss': 199, 'improve': 336, 'image': 331, 'quality': 557, 'immersive': 334, 'experiences': 246, 'in gaming': 352, 'gaming nvidia': 278, 'nvidia geforce': 485, 'geforce graphics': 281, 'graphics cards': 311, 'cards and': 96, 'and technologies': 57, 'technologies like': 635, 'like dlss': 440, 'dlss improve': 200, 'improve performance': 337, 'and image': 37, 'image quality': 332, 'quality for': 558, 'for immersive': 264, 'immersive experiences': 335, 'in gaming nvidia': 353, 'gaming nvidia geforce': 279, 'nvidia geforce graphics': 486, 'geforce graphics cards': 282, 'graphics cards and': 312, 'cards and technologies': 97, 'and technologies like': 58, 'technologies like dlss': 636, 'like dlss improve': 441, 'dlss improve performance': 201, 'improve performance and': 338, 'performance and image': 520, 'and image quality': 38, 'image quality for': 333, 'quality for immersive': 559, 'for immersive experiences': 265, 'drive': 202, 'autonomous': 82, 'vehicles': 706, 'providing': 552, 'hardware': 313, 'self': 594, 'driving': 205, 'cars': 98, 'nvidia drive': 481, 'drive is': 203, 'is platform': 394, 'platform for': 528, 'for autonomous': 254, 'autonomous vehicles': 83, 'vehicles providing': 707, 'providing hardware': 553, 'hardware and': 314, 'and software': 55, 'software for': 604, 'for self': 266, 'self driving': 595, 'driving cars': 206, 'nvidia drive is': 482, 'drive is platform': 204, 'is platform for': 395, 'platform for autonomous': 529, 'for autonomous vehicles': 255, 'autonomous vehicles providing': 84, 'vehicles providing hardware': 708, 'providing hardware and': 554, 'hardware and software': 315, 'and software for': 56, 'software for self': 605, 'for self driving': 267, 'self driving cars': 596, 'omniverse': 505, 'enables': 222, 'creators': 158, 'collaborate': 118, 'on': 508, 'projects': 543, 'real': 560, 'time': 672, 'rendering': 573, 'simulation': 600, 'the omniverse': 663, 'omniverse platform': 506, 'platform enables': 524, 'enables creators': 223, 'creators to': 159, 'to collaborate': 676, 'collaborate on': 119, 'on projects': 509, 'projects with': 544, 'with real': 732, 'real time': 561, 'time rendering': 673, 'rendering and': 574, 'and simulation': 54, 'the omniverse platform': 664, 'omniverse platform enables': 507, 'platform enables creators': 525, 'enables creators to': 224, 'creators to collaborate': 160, 'to collaborate on': 677, 'collaborate on projects': 120, 'on projects with': 510, 'projects with real': 545, 'with real time': 733, 'real time rendering': 562, 'time rendering and': 674, 'rendering and simulation': 575, 'leads': 432, 'data': 170, 'center': 99, 'solutions': 606, 'dgx': 196, 'systems': 628, 'accelerating': 0, 'workloads': 734, 'cloud': 108, 'large': 423, 'scale': 589, 'processing': 541, 'nvidia leads': 489, 'leads in': 433, 'in data': 348, 'data center': 171, 'center solutions': 100, 'solutions with': 607, 'with gpus': 726, 'gpus like': 303, 'like the': 444, 'the and': 649, 'and dgx': 31, 'dgx systems': 197, 'systems accelerating': 629, 'accelerating workloads': 1, 'workloads in': 735, 'in ai': 340, 'ai cloud': 12, 'cloud computing': 109, 'computing and': 142, 'and large': 44, 'large scale': 426, 'scale data': 590, 'data processing': 174, 'nvidia leads in': 490, 'leads in data': 434, 'in data center': 349, 'data center solutions': 172, 'center solutions with': 101, 'solutions with gpus': 608, 'with gpus like': 727, 'gpus like the': 304, 'like the and': 445, 'the and dgx': 650, 'and dgx systems': 32, 'dgx systems accelerating': 198, 'systems accelerating workloads': 630, 'accelerating workloads in': 2, 'workloads in ai': 736, 'in ai cloud': 341, 'ai cloud computing': 13, 'cloud computing and': 110, 'computing and large': 143, 'and large scale': 45, 'large scale data': 427, 'scale data processing': 591, 'grace': 307, 'cpu': 151, 'represents': 576, 'expansion': 243, 'into': 379, 'grace cpu': 308, 'cpu represents': 153, 'represents nvidia': 577, 'nvidia expansion': 483, 'expansion into': 244, 'into high': 380, 'performance cpu': 521, 'cpu development': 152, 'grace cpu represents': 309, 'cpu represents nvidia': 154, 'represents nvidia expansion': 578, 'nvidia expansion into': 484, 'expansion into high': 245, 'into high performance': 381, 'high performance cpu': 327, 'performance cpu development': 522, 'jetson': 412, 'supports': 622, 'robotics': 580, 'iot': 382, 'efficient': 212, 'edge': 209, 'the jetson': 657, 'jetson platform': 413, 'platform supports': 530, 'supports robotics': 623, 'robotics and': 581, 'and iot': 39, 'iot applications': 383, 'applications enabling': 60, 'enabling efficient': 228, 'efficient edge': 213, 'edge computing': 210, 'the jetson platform': 658, 'jetson platform supports': 414, 'platform supports robotics': 531, 'supports robotics and': 624, 'robotics and iot': 582, 'and iot applications': 40, 'iot applications enabling': 384, 'applications enabling efficient': 61, 'enabling efficient edge': 229, 'efficient edge computing': 214, 'acquisition': 3, 'of': 495, 'mellanox': 458, 'enhanced': 234, 'networking': 468, 'capabilities': 92, 'centers': 102, 'company acquisition': 128, 'acquisition of': 4, 'of mellanox': 498, 'mellanox technologies': 459, 'technologies enhanced': 633, 'enhanced networking': 235, 'networking capabilities': 469, 'capabilities for': 93, 'for data': 256, 'data centers': 173, 'the company acquisition': 652, 'company acquisition of': 129, 'acquisition of mellanox': 5, 'of mellanox technologies': 499, 'mellanox technologies enhanced': 460, 'technologies enhanced networking': 634, 'enhanced networking capabilities': 236, 'networking capabilities for': 470, 'capabilities for data': 94, 'for data centers': 257, 'plays': 535, 'crucial': 161, 'role': 583, 'generative': 286, 'powering': 538, 'training': 691, 'language': 421, 'models': 464, 'nvidia plays': 491, 'plays crucial': 536, 'crucial role': 162, 'role in': 584, 'in generative': 354, 'generative ai': 287, 'ai with': 14, 'with its': 730, 'its hardware': 407, 'hardware powering': 316, 'powering the': 539, 'the training': 667, 'training of': 692, 'of large': 496, 'large language': 424, 'language models': 422, 'nvidia plays crucial': 492, 'plays crucial role': 537, 'crucial role in': 163, 'role in generative': 585, 'in generative ai': 355, 'generative ai with': 288, 'ai with its': 15, 'with its hardware': 731, 'its hardware powering': 408, 'hardware powering the': 317, 'powering the training': 540, 'the training of': 668, 'training of large': 693, 'of large language': 497, 'large language models': 425, 'sustainability': 625, 'key': 415, 'focus': 250, 'efforts': 216, 'design': 184, 'products': 542, 'sustainability is': 626, 'is key': 388, 'key focus': 416, 'focus with': 251, 'with efforts': 724, 'efforts to': 217, 'to design': 678, 'design energy': 185, 'energy efficient': 232, 'efficient products': 215, 'sustainability is key': 627, 'is key focus': 389, 'key focus with': 417, 'focus with efforts': 252, 'with efforts to': 725, 'efforts to design': 218, 'to design energy': 679, 'design energy efficient': 186, 'energy efficient products': 233, 'collaborates': 121, 'providers': 546, 'including': 360, 'aws': 85, 'azure': 88, 'google': 292, 'expand': 240, 'ecosystem': 208, 'nvidia collaborates': 475, 'collaborates with': 122, 'with cloud': 722, 'cloud providers': 111, 'providers including': 547, 'including aws': 361, 'aws azure': 86, 'azure and': 89, 'and google': 35, 'google cloud': 293, 'cloud to': 113, 'to expand': 680, 'expand its': 241, 'its ecosystem': 404, 'nvidia collaborates with': 476, 'collaborates with cloud': 123, 'with cloud providers': 723, 'cloud providers including': 112, 'providers including aws': 548, 'including aws azure': 362, 'aws azure and': 87, 'azure and google': 90, 'and google cloud': 36, 'google cloud to': 294, 'cloud to expand': 114, 'to expand its': 681, 'expand its ecosystem': 242, 'it': 400, 'major': 452, 'player': 532, 'metaverse': 461, 'offering': 502, 'tools': 688, 'virtual': 709, 'reality': 563, 'augmented': 78, 'it is': 401, 'is major': 390, 'major player': 453, 'player in': 533, 'in the': 358, 'the metaverse': 659, 'metaverse offering': 462, 'offering tools': 503, 'tools for': 689, 'for virtual': 268, 'virtual reality': 710, 'reality and': 564, 'and augmented': 22, 'augmented reality': 79, 'reality applications': 566, 'it is major': 402, 'is major player': 391, 'major player in': 454, 'player in the': 534, 'in the metaverse': 359, 'the metaverse offering': 660, 'metaverse offering tools': 463, 'offering tools for': 504, 'tools for virtual': 690, 'for virtual reality': 269, 'virtual reality and': 711, 'reality and augmented': 565, 'and augmented reality': 23, 'augmented reality applications': 80, 'ceo': 103, 'jensen': 409, 'huang': 328, 'co': 115, 'recognized': 567, 'innovation': 372, 'ceo jensen': 104, 'jensen huang': 410, 'huang co': 329, 'co founded': 116, 'founded the': 273, 'company and': 130, 'is recognized': 396, 'recognized for': 568, 'for driving': 258, 'driving innovation': 207, 'ceo jensen huang': 105, 'jensen huang co': 411, 'huang co founded': 330, 'co founded the': 117, 'founded the company': 274, 'the company and': 653, 'company and is': 131, 'and is recognized': 43, 'is recognized for': 397, 'recognized for driving': 569, 'for driving innovation': 259, 'stock': 612, 'under': 697, 'ticker': 669, 'nvda': 471, 'significant': 597, 'component': 138, 'nasdaq': 465, 'index': 363, 'reflects': 570, 'industry': 370, 'leadership': 431, 'nvidia stock': 493, 'stock under': 613, 'under the': 698, 'the ticker': 665, 'ticker nvda': 670, 'nvda is': 472, 'is significant': 398, 'significant component': 598, 'component of': 139, 'of the': 500, 'the nasdaq': 661, 'nasdaq index': 466, 'index and': 364, 'and reflects': 50, 'reflects industry': 571, 'industry leadership': 371, 'nvidia stock under': 494, 'stock under the': 614, 'under the ticker': 699, 'the ticker nvda': 666, 'ticker nvda is': 671, 'nvda is significant': 473, 'is significant component': 399, 'significant component of': 599, 'component of the': 140, 'of the nasdaq': 501, 'the nasdaq index': 662, 'nasdaq index and': 467, 'index and reflects': 365, 'and reflects industry': 51, 'reflects industry leadership': 572, 'emphasizes': 219, 'collaboration': 124, 'delivering': 181, 'transformative': 694, 'worldwide': 737, 'company emphasizes': 132, 'emphasizes innovation': 220, 'innovation collaboration': 373, 'collaboration and': 125, 'and delivering': 29, 'delivering transformative': 182, 'transformative technologies': 695, 'technologies to': 637, 'to industries': 682, 'industries worldwide': 369, 'the company emphasizes': 654, 'company emphasizes innovation': 133, 'emphasizes innovation collaboration': 221, 'innovation collaboration and': 374, 'collaboration and delivering': 126, 'and delivering transformative': 30, 'delivering transformative technologies': 183, 'transformative technologies to': 696, 'technologies to industries': 638, 'to industries worldwide': 683}\n"
     ]
    }
   ],
   "source": [
    "X = cv.fit_transform(corpus)\n",
    "print(cv.vocabulary_)"
   ]
  },
  {
   "cell_type": "code",
   "execution_count": 17,
   "metadata": {},
   "outputs": [
    {
     "name": "stdout",
     "output_type": "stream",
     "text": [
      "Document 1 :\n",
      " nvidia corporation was founded in      and is a global leader in computing technology with headquarters in santa clara california  \n",
      "\n",
      "Bag of Words :\n",
      " [[0 0 0 0 0 0 0 0 0 0 0 0 0 0 0 0 0 0 0 1 0 0 0 0 0 0 0 0 0 0 0 0 0 0 0 0\n",
      "  0 0 0 0 0 1 1 0 0 0 0 0 0 0 0 0 0 0 0 0 0 0 0 0 0 0 0 0 0 0 0 0 0 0 0 0\n",
      "  0 0 0 0 0 0 0 0 0 0 0 0 0 0 0 0 0 0 0 1 0 0 0 0 0 0 0 0 0 0 0 0 0 0 1 1\n",
      "  0 0 0 0 0 0 0 0 0 0 0 0 0 0 0 0 0 0 0 0 0 0 0 0 0 0 0 0 0 0 0 0 0 1 0 0\n",
      "  0 0 1 1 1 1 1 0 0 0 0 0 0 0 0 0 0 0 0 0 0 0 0 0 0 0 0 0 0 0 0 0 0 0 0 0\n",
      "  0 0 0 0 0 0 0 0 0 0 0 0 0 0 0 0 0 0 0 0 0 0 0 0 0 0 0 0 0 0 0 0 0 0 0 0\n",
      "  0 0 0 0 0 0 0 0 0 0 0 0 0 0 0 0 0 0 0 0 0 0 0 0 0 0 0 0 0 0 0 0 0 0 0 0\n",
      "  0 0 0 0 0 0 0 0 0 0 0 0 0 0 0 0 0 0 1 1 1 0 0 0 0 0 0 0 0 0 0 0 0 0 0 0\n",
      "  0 1 1 1 0 0 0 0 0 0 0 0 0 0 0 0 0 0 0 0 0 0 0 0 0 0 0 0 0 0 1 1 1 0 0 0\n",
      "  0 0 0 0 0 0 0 0 0 0 0 0 0 0 0 1 0 0 1 1 0 0 1 1 0 0 0 0 0 0 0 0 1 1 0 0\n",
      "  0 0 0 0 0 0 0 0 0 0 0 0 0 0 0 0 0 0 0 0 0 0 0 0 0 1 1 1 0 0 0 0 0 0 0 0\n",
      "  0 0 0 0 0 0 0 0 0 0 0 0 0 0 0 0 0 0 0 0 0 0 0 0 0 0 0 0 0 0 0 0 1 1 1 0\n",
      "  0 0 0 0 0 0 0 0 0 0 0 0 0 0 0 0 0 0 0 0 0 0 0 0 0 0 0 0 0 0 0 0 0 0 0 0\n",
      "  0 0 0 0 0 0 1 0 0 1 1 0 0 0 0 0 0 0 0 0 0 0 0 0 0 0 0 0 0 0 0 0 0 0 0 0\n",
      "  0 0 0 0 0 0 0 0 0 0 0 0 0 0 0 0 0 0 0 0 0 0 0 0 0 0 0 0 0 0 0 0 0 0 0 0\n",
      "  0 0 0 0 0 0 0 0 0 0 0 0 0 0 0 0 0 0 0 0 0 0 0 0 0 0 0 0 0 0 0 0 0 0 0 0\n",
      "  0 0 0 0 0 0 0 0 0 0 1 1 1 0 0 0 0 0 0 0 0 0 0 0 0 0 0 0 0 0 0 0 0 0 0 0\n",
      "  0 0 0 0 0 0 0 0 0 0 0 0 0 0 0 0 0 0 0 0 0 0 0 0 0 0 0 1 1 1 0 0 0 0 0 0\n",
      "  0 0 0 0 0 0 0 0 0 0 0 0 0 0 0 0 0 0 0 0 0 0 0 0 0 0 0 0 0 0 0 0 0 0 0 0\n",
      "  0 0 0 0 0 0 0 0 0 0 0 0 0 0 0 0 0 0 0 0 0 0 0 0 0 0 0 0 1 1 1 0 0 0 0 0\n",
      "  0 1 0 0 0 0 0 0 1 1 0 0 0 0 0 0 0 0]]\n"
     ]
    }
   ],
   "source": [
    "print(\"Document 1 :\\n\",corpus[0])\n",
    "print()\n",
    "print(\"Bag of Words :\\n\",X[0].toarray())"
   ]
  },
  {
   "cell_type": "markdown",
   "metadata": {},
   "source": [
    "## TF-IDF"
   ]
  },
  {
   "cell_type": "code",
   "execution_count": 36,
   "metadata": {},
   "outputs": [],
   "source": [
    "from sklearn.feature_extraction.text import TfidfVectorizer\n",
    "cv = TfidfVectorizer(ngram_range=(3,3), max_features=10)\n",
    "X = cv.fit_transform(corpus)"
   ]
  },
  {
   "cell_type": "code",
   "execution_count": 37,
   "metadata": {},
   "outputs": [
    {
     "data": {
      "text/plain": [
       "'nvidia corporation was founded in      and is a global leader in computing technology with headquarters in santa clara california  '"
      ]
     },
     "execution_count": 37,
     "metadata": {},
     "output_type": "execute_result"
    }
   ],
   "source": [
    "corpus[0]"
   ]
  },
  {
   "cell_type": "code",
   "execution_count": 38,
   "metadata": {},
   "outputs": [
    {
     "data": {
      "text/plain": [
       "array([[0., 0., 1., 0., 0., 0., 0., 0., 0., 0.]])"
      ]
     },
     "execution_count": 38,
     "metadata": {},
     "output_type": "execute_result"
    }
   ],
   "source": [
    "X[0].toarray()"
   ]
  }
 ],
 "metadata": {
  "kernelspec": {
   "display_name": "Python 3",
   "language": "python",
   "name": "python3"
  },
  "language_info": {
   "codemirror_mode": {
    "name": "ipython",
    "version": 3
   },
   "file_extension": ".py",
   "mimetype": "text/x-python",
   "name": "python",
   "nbconvert_exporter": "python",
   "pygments_lexer": "ipython3",
   "version": "3.12.0"
  }
 },
 "nbformat": 4,
 "nbformat_minor": 2
}
