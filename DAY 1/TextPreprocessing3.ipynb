{
 "cells": [
  {
   "cell_type": "markdown",
   "metadata": {},
   "source": [
    "# TEXT PREPROCESSING 3 \n",
    "This notebook converts the raw text into processable sequence of data. It performs tokenization, stopwords, lemmatization"
   ]
  },
  {
   "cell_type": "code",
   "execution_count": 3,
   "metadata": {},
   "outputs": [],
   "source": [
    "import nltk\n",
    "from nltk.stem import WordNetLemmatizer\n",
    "import re\n",
    "from nltk.corpus import stopwords"
   ]
  },
  {
   "cell_type": "code",
   "execution_count": 4,
   "metadata": {},
   "outputs": [],
   "source": [
    "raw_text = '''NVIDIA Corporation was founded in 1993 and is a global leader in computing technology with headquarters in Santa Clara California. The company specializes in designing and manufacturing GPUs that are essential for gaming artificial intelligence and scientific research. NVIDIA’s GPU architectures such as Ampere and Ada Lovelace deliver high performance and energy efficiency.\n",
    "\n",
    "NVIDIA created CUDA which is a parallel computing platform enabling developers to use GPUs for general-purpose applications. Its GPUs are widely used in artificial intelligence and machine learning supporting industries like healthcare finance and automotive. The company provides software development kits such as TensorRT and cuDNN to optimize AI and deep learning tasks.\n",
    "\n",
    "In gaming NVIDIA GeForce graphics cards and technologies like DLSS improve performance and image quality for immersive experiences. NVIDIA DRIVE is a platform for autonomous vehicles providing hardware and software for self-driving cars. The Omniverse platform enables creators to collaborate on 3D projects with real-time rendering and simulation.\n",
    "\n",
    "NVIDIA leads in data center solutions with GPUs like the H100 and DGX systems accelerating workloads in AI cloud computing and large-scale data processing. Grace CPU represents NVIDIA’s expansion into high-performance CPU development. The Jetson platform supports robotics and IoT applications enabling efficient edge computing.\n",
    "\n",
    "The company’s acquisition of Mellanox Technologies enhanced networking capabilities for data centers. NVIDIA plays a crucial role in generative AI with its hardware powering the training of large language models. Sustainability is a key focus with efforts to design energy-efficient products.\n",
    "\n",
    "NVIDIA collaborates with cloud providers including AWS Azure and Google Cloud to expand its ecosystem. It is a major player in the metaverse offering tools for virtual reality and augmented reality applications. CEO Jensen Huang co-founded the company and is recognized for driving innovation. NVIDIA stock under the ticker NVDA is a significant component of the NASDAQ index and reflects industry leadership. The company emphasizes innovation collaboration and delivering transformative technologies to industries worldwide.'''"
   ]
  },
  {
   "cell_type": "code",
   "execution_count": 5,
   "metadata": {},
   "outputs": [],
   "source": [
    "lem = WordNetLemmatizer()"
   ]
  },
  {
   "cell_type": "code",
   "execution_count": 6,
   "metadata": {},
   "outputs": [
    {
     "name": "stdout",
     "output_type": "stream",
     "text": [
      "['nvidia corporation was founded in      and is a global leader in computing technology with headquarters in santa clara california  ', 'the company specializes in designing and manufacturing gpus that are essential for gaming artificial intelligence and scientific research  ', 'nvidia s gpu architectures such as ampere and ada lovelace deliver high performance and energy efficiency  ', 'nvidia created cuda which is a parallel computing platform enabling developers to use gpus for general purpose applications  ', 'its gpus are widely used in artificial intelligence and machine learning supporting industries like healthcare finance and automotive  ', 'the company provides software development kits such as tensorrt and cudnn to optimize ai and deep learning tasks  ', 'in gaming nvidia geforce graphics cards and technologies like dlss improve performance and image quality for immersive experiences  ', 'nvidia drive is a platform for autonomous vehicles providing hardware and software for self driving cars  ', 'the omniverse platform enables creators to collaborate on  d projects with real time rendering and simulation  ', 'nvidia leads in data center solutions with gpus like the h    and dgx systems accelerating workloads in ai cloud computing and large scale data processing  ', 'grace cpu represents nvidia s expansion into high performance cpu development  ', 'the jetson platform supports robotics and iot applications enabling efficient edge computing  ', 'the company s acquisition of mellanox technologies enhanced networking capabilities for data centers  ', 'nvidia plays a crucial role in generative ai with its hardware powering the training of large language models  ', 'sustainability is a key focus with efforts to design energy efficient products  ', 'nvidia collaborates with cloud providers including aws azure and google cloud to expand its ecosystem  ', 'it is a major player in the metaverse offering tools for virtual reality and augmented reality applications  ', 'ceo jensen huang co founded the company and is recognized for driving innovation  ', 'nvidia stock under the ticker nvda is a significant component of the nasdaq index and reflects industry leadership  ', 'the company emphasizes innovation collaboration and delivering transformative technologies to industries worldwide  ']\n"
     ]
    }
   ],
   "source": [
    "sentences = nltk.sent_tokenize(raw_text)\n",
    "\n",
    "corpus = []\n",
    "for i in range(len(sentences)):\n",
    "    review = re.sub('[^a-zA-Z]', ' ', sentences[i])\n",
    "    review = review.lower()\n",
    "    temp_data = ''\n",
    "    if review not in set(stopwords.words('english')):\n",
    "        lem_word = lem.lemmatize(review)\n",
    "        temp_data = temp_data + lem_word + ' '\n",
    "    corpus.append(temp_data)\n",
    "print(corpus)"
   ]
  },
  {
   "cell_type": "code",
   "execution_count": 7,
   "metadata": {},
   "outputs": [
    {
     "data": {
      "text/plain": [
       "20"
      ]
     },
     "execution_count": 7,
     "metadata": {},
     "output_type": "execute_result"
    }
   ],
   "source": [
    "len(corpus)"
   ]
  },
  {
   "cell_type": "markdown",
   "metadata": {},
   "source": [
    "Now the raw_data is converted into processable piece of data with no stopwords in its root form"
   ]
  },
  {
   "cell_type": "code",
   "execution_count": 9,
   "metadata": {},
   "outputs": [],
   "source": [
    "import json\n",
    "\n",
    "with open(\"processed_text.txt\",\"w\") as file:\n",
    "    json.dump(corpus, file)"
   ]
  }
 ],
 "metadata": {
  "kernelspec": {
   "display_name": "Python 3",
   "language": "python",
   "name": "python3"
  },
  "language_info": {
   "codemirror_mode": {
    "name": "ipython",
    "version": 3
   },
   "file_extension": ".py",
   "mimetype": "text/x-python",
   "name": "python",
   "nbconvert_exporter": "python",
   "pygments_lexer": "ipython3",
   "version": "3.12.0"
  }
 },
 "nbformat": 4,
 "nbformat_minor": 2
}
