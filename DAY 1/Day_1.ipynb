{
 "cells": [
  {
   "cell_type": "code",
   "execution_count": 5,
   "metadata": {},
   "outputs": [
    {
     "data": {
      "text/plain": [
       "'Nvidia Corporation[a] (/ɛnˈvɪdiə/, en-VID-ee-ə) is an American multinational corporation and technology company headquartered in Santa Clara, California, and incorporated in Delaware.[5] It is a software and fabless company which designs and supplies graphics processing units (GPUs), application programming interfaces (APIs) for data science and high-performance computing, as well as system on a chip units (SoCs) for the mobile computing and automotive market. Nvidia is also a dominant supplier of artificial intelligence (AI) hardware and software.[6][7][8]'"
      ]
     },
     "execution_count": 5,
     "metadata": {},
     "output_type": "execute_result"
    }
   ],
   "source": [
    "paragraph = 'Nvidia Corporation[a] (/ɛnˈvɪdiə/, en-VID-ee-ə) is an American multinational corporation and technology company headquartered in Santa Clara, California, and incorporated in Delaware.[5] It is a software and fabless company which designs and supplies graphics processing units (GPUs), application programming interfaces (APIs) for data science and high-performance computing, as well as system on a chip units (SoCs) for the mobile computing and automotive market. Nvidia is also a dominant supplier of artificial intelligence (AI) hardware and software.[6][7][8]'\n",
    "paragraph"
   ]
  },
  {
   "cell_type": "code",
   "execution_count": 6,
   "metadata": {},
   "outputs": [],
   "source": [
    "import nltk\n",
    "from nltk.stem import PorterStemmer\n",
    "from nltk.corpus import stopwords"
   ]
  },
  {
   "cell_type": "markdown",
   "metadata": {},
   "source": [
    "### Tokenization -- > Converts Paragraphs into words"
   ]
  },
  {
   "cell_type": "code",
   "execution_count": 7,
   "metadata": {},
   "outputs": [
    {
     "name": "stderr",
     "output_type": "stream",
     "text": [
      "[nltk_data] Downloading package punkt to\n",
      "[nltk_data]     C:\\Users\\TESS\\AppData\\Roaming\\nltk_data...\n",
      "[nltk_data]   Package punkt is already up-to-date!\n"
     ]
    },
    {
     "data": {
      "text/plain": [
       "True"
      ]
     },
     "execution_count": 7,
     "metadata": {},
     "output_type": "execute_result"
    }
   ],
   "source": [
    "nltk.download('punkt')"
   ]
  },
  {
   "cell_type": "code",
   "execution_count": 9,
   "metadata": {},
   "outputs": [
    {
     "name": "stdout",
     "output_type": "stream",
     "text": [
      "['Nvidia Corporation[a] (/ɛnˈvɪdiə/, en-VID-ee-ə) is an American multinational corporation and technology company headquartered in Santa Clara, California, and incorporated in Delaware.', '[5] It is a software and fabless company which designs and supplies graphics processing units (GPUs), application programming interfaces (APIs) for data science and high-performance computing, as well as system on a chip units (SoCs) for the mobile computing and automotive market.', 'Nvidia is also a dominant supplier of artificial intelligence (AI) hardware and software.', '[6][7][8]']\n"
     ]
    }
   ],
   "source": [
    "sentences = nltk.sent_tokenize(paragraph)\n",
    "print(sentences)"
   ]
  },
  {
   "cell_type": "markdown",
   "metadata": {},
   "source": [
    "### Stemming -- > The words into it's root form"
   ]
  },
  {
   "cell_type": "code",
   "execution_count": 10,
   "metadata": {},
   "outputs": [],
   "source": [
    "stemmer = PorterStemmer()"
   ]
  },
  {
   "cell_type": "code",
   "execution_count": 12,
   "metadata": {},
   "outputs": [
    {
     "data": {
      "text/plain": [
       "'histori'"
      ]
     },
     "execution_count": 12,
     "metadata": {},
     "output_type": "execute_result"
    }
   ],
   "source": [
    "stemmer.stem('history')"
   ]
  },
  {
   "cell_type": "markdown",
   "metadata": {},
   "source": [
    "### Lemmatization --> Words into base form with meaning"
   ]
  },
  {
   "cell_type": "code",
   "execution_count": 13,
   "metadata": {},
   "outputs": [],
   "source": [
    "from nltk.stem import WordNetLemmatizer"
   ]
  },
  {
   "cell_type": "code",
   "execution_count": 14,
   "metadata": {},
   "outputs": [],
   "source": [
    "lemmatizer = WordNetLemmatizer()"
   ]
  },
  {
   "cell_type": "code",
   "execution_count": 17,
   "metadata": {},
   "outputs": [
    {
     "data": {
      "text/plain": [
       "'go'"
      ]
     },
     "execution_count": 17,
     "metadata": {},
     "output_type": "execute_result"
    }
   ],
   "source": [
    "lemmatizer.lemmatize('goes')"
   ]
  },
  {
   "cell_type": "code",
   "execution_count": 20,
   "metadata": {},
   "outputs": [
    {
     "data": {
      "text/plain": [
       "4"
      ]
     },
     "execution_count": 20,
     "metadata": {},
     "output_type": "execute_result"
    }
   ],
   "source": [
    "len(sentences)"
   ]
  },
  {
   "cell_type": "markdown",
   "metadata": {},
   "source": [
    "### Cleaning the corpus"
   ]
  },
  {
   "cell_type": "code",
   "execution_count": 18,
   "metadata": {},
   "outputs": [],
   "source": [
    "import re\n",
    "corpus = []\n",
    "for i in range(len(sentences)):\n",
    "    review = re.sub('[^a-zA-Z]', ' ', sentences[i])\n",
    "    review = review.lower()\n",
    "    corpus.append(review)"
   ]
  },
  {
   "cell_type": "code",
   "execution_count": 19,
   "metadata": {},
   "outputs": [
    {
     "name": "stdout",
     "output_type": "stream",
     "text": [
      "['nvidia corporation a     n v di    en vid ee    is an american multinational corporation and technology company headquartered in santa clara  california  and incorporated in delaware ', '    it is a software and fabless company which designs and supplies graphics processing units  gpus   application programming interfaces  apis  for data science and high performance computing  as well as system on a chip units  socs  for the mobile computing and automotive market ', 'nvidia is also a dominant supplier of artificial intelligence  ai  hardware and software ', '         ']\n"
     ]
    }
   ],
   "source": [
    "print(corpus)"
   ]
  },
  {
   "cell_type": "code",
   "execution_count": null,
   "metadata": {},
   "outputs": [
    {
     "name": "stdout",
     "output_type": "stream",
     "text": [
      "nvidia\n",
      "corpor\n",
      "n\n",
      "v\n",
      "di\n",
      "en\n",
      "vid\n",
      "ee\n",
      "american\n",
      "multin\n",
      "corpor\n",
      "technolog\n",
      "compani\n",
      "headquart\n",
      "santa\n",
      "clara\n",
      "california\n",
      "incorpor\n",
      "delawar\n",
      "softwar\n",
      "fabless\n",
      "compani\n",
      "design\n",
      "suppli\n",
      "graphic\n",
      "process\n",
      "unit\n",
      "gpu\n",
      "applic\n",
      "program\n",
      "interfac\n",
      "api\n",
      "data\n",
      "scienc\n",
      "high\n",
      "perform\n",
      "comput\n",
      "well\n",
      "system\n",
      "chip\n",
      "unit\n",
      "soc\n",
      "mobil\n",
      "comput\n",
      "automot\n",
      "market\n",
      "nvidia\n",
      "also\n",
      "domin\n",
      "supplier\n",
      "artifici\n",
      "intellig\n",
      "ai\n",
      "hardwar\n",
      "softwar\n"
     ]
    }
   ],
   "source": [
    "# Stemming\n",
    "for i in corpus:\n",
    "    words = nltk.word_tokenize(i)\n",
    "    for word in words:\n",
    "        if word not in set(stopwords.words('english')):\n",
    "            print(stemmer.stem(word))"
   ]
  },
  {
   "cell_type": "code",
   "execution_count": 49,
   "metadata": {},
   "outputs": [
    {
     "name": "stdout",
     "output_type": "stream",
     "text": [
      "nvidia\n",
      "corporation\n",
      "n\n",
      "v\n",
      "di\n",
      "en\n",
      "vid\n",
      "ee\n",
      "american\n",
      "multinational\n",
      "corporation\n",
      "technology\n",
      "company\n",
      "headquartered\n",
      "santa\n",
      "clara\n",
      "california\n",
      "incorporated\n",
      "delaware\n",
      "software\n",
      "fable\n",
      "company\n",
      "design\n",
      "supply\n",
      "graphic\n",
      "processing\n",
      "unit\n",
      "gpus\n",
      "application\n",
      "programming\n",
      "interface\n",
      "apis\n",
      "data\n",
      "science\n",
      "high\n",
      "performance\n",
      "computing\n",
      "well\n",
      "system\n",
      "chip\n",
      "unit\n",
      "socs\n",
      "mobile\n",
      "computing\n",
      "automotive\n",
      "market\n",
      "nvidia\n",
      "also\n",
      "dominant\n",
      "supplier\n",
      "artificial\n",
      "intelligence\n",
      "ai\n",
      "hardware\n",
      "software\n"
     ]
    }
   ],
   "source": [
    "#Lemmatization\n",
    "final_data = []\n",
    "for i in corpus:\n",
    "    words = nltk.word_tokenize(i)\n",
    "    transform_sentence = ' '\n",
    "    for word in words:\n",
    "        if word not in set(stopwords.words('english')):\n",
    "            lem_word = lemmatizer.lemmatize(word)\n",
    "            transform_sentence = transform_sentence + lem_word + ' ' \n",
    "            print(lem_word)\n",
    "    final_data.append(transform_sentence)"
   ]
  },
  {
   "cell_type": "code",
   "execution_count": 52,
   "metadata": {},
   "outputs": [],
   "source": [
    "corpus = final_data"
   ]
  },
  {
   "cell_type": "code",
   "execution_count": 58,
   "metadata": {},
   "outputs": [],
   "source": [
    "from sklearn.feature_extraction.text import CountVectorizer\n",
    "cv = CountVectorizer(binary=True)"
   ]
  },
  {
   "cell_type": "code",
   "execution_count": 59,
   "metadata": {},
   "outputs": [],
   "source": [
    "X = cv.fit_transform(corpus)"
   ]
  },
  {
   "cell_type": "code",
   "execution_count": 60,
   "metadata": {},
   "outputs": [
    {
     "data": {
      "text/plain": [
       "{'nvidia': 32,\n",
       " 'corporation': 12,\n",
       " 'di': 16,\n",
       " 'en': 19,\n",
       " 'vid': 45,\n",
       " 'ee': 18,\n",
       " 'american': 2,\n",
       " 'multinational': 31,\n",
       " 'technology': 43,\n",
       " 'company': 10,\n",
       " 'headquartered': 24,\n",
       " 'santa': 36,\n",
       " 'clara': 9,\n",
       " 'california': 7,\n",
       " 'incorporated': 26,\n",
       " 'delaware': 14,\n",
       " 'software': 39,\n",
       " 'fable': 20,\n",
       " 'design': 15,\n",
       " 'supply': 41,\n",
       " 'graphic': 22,\n",
       " 'processing': 34,\n",
       " 'unit': 44,\n",
       " 'gpus': 21,\n",
       " 'application': 4,\n",
       " 'programming': 35,\n",
       " 'interface': 28,\n",
       " 'apis': 3,\n",
       " 'data': 13,\n",
       " 'science': 37,\n",
       " 'high': 25,\n",
       " 'performance': 33,\n",
       " 'computing': 11,\n",
       " 'well': 46,\n",
       " 'system': 42,\n",
       " 'chip': 8,\n",
       " 'socs': 38,\n",
       " 'mobile': 30,\n",
       " 'automotive': 6,\n",
       " 'market': 29,\n",
       " 'also': 1,\n",
       " 'dominant': 17,\n",
       " 'supplier': 40,\n",
       " 'artificial': 5,\n",
       " 'intelligence': 27,\n",
       " 'ai': 0,\n",
       " 'hardware': 23}"
      ]
     },
     "execution_count": 60,
     "metadata": {},
     "output_type": "execute_result"
    }
   ],
   "source": [
    "cv.vocabulary_  #feature number not the count"
   ]
  },
  {
   "cell_type": "code",
   "execution_count": 61,
   "metadata": {},
   "outputs": [
    {
     "data": {
      "text/plain": [
       "' nvidia corporation n v di en vid ee american multinational corporation technology company headquartered santa clara california incorporated delaware '"
      ]
     },
     "execution_count": 61,
     "metadata": {},
     "output_type": "execute_result"
    }
   ],
   "source": [
    "corpus[0]"
   ]
  },
  {
   "cell_type": "code",
   "execution_count": 62,
   "metadata": {},
   "outputs": [
    {
     "data": {
      "text/plain": [
       "array([[0, 0, 1, 0, 0, 0, 0, 1, 0, 1, 1, 0, 1, 0, 1, 0, 1, 0, 1, 1, 0, 0,\n",
       "        0, 0, 1, 0, 1, 0, 0, 0, 0, 1, 1, 0, 0, 0, 1, 0, 0, 0, 0, 0, 0, 1,\n",
       "        0, 1, 0]], dtype=int64)"
      ]
     },
     "execution_count": 62,
     "metadata": {},
     "output_type": "execute_result"
    }
   ],
   "source": [
    "X[0].toarray()"
   ]
  },
  {
   "cell_type": "code",
   "execution_count": null,
   "metadata": {},
   "outputs": [],
   "source": []
  }
 ],
 "metadata": {
  "kernelspec": {
   "display_name": "Python 3",
   "language": "python",
   "name": "python3"
  },
  "language_info": {
   "codemirror_mode": {
    "name": "ipython",
    "version": 3
   },
   "file_extension": ".py",
   "mimetype": "text/x-python",
   "name": "python",
   "nbconvert_exporter": "python",
   "pygments_lexer": "ipython3",
   "version": "3.12.0"
  }
 },
 "nbformat": 4,
 "nbformat_minor": 2
}
